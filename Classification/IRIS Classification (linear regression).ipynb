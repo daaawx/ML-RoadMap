#%%

import numpy as np
import matplotlib.pyplot as plt
import seaborn as sns
import sklearn
from sklearn.model_selection import train_test_split
import pandas as pd
from sklearn.metrics import accuracy_score,confusion_matrix
from sklearn.neighbors import NearestNeighbors,KNeighborsClassifier
from sklearn.linear_model import LinearRegression
import matplotlib.pyplot as plt

#%%

df = pd.read_csv('IRIS.csv')
df.head() # Check head

#%%

# Separate X and y (feature and labels as numpy array)
X = df.iloc[:, 0:4].to_numpy()
y = df.iloc[:, -1].to_numpy()

#%%

# Train/Test split (70/30 + shuffle + seed)
X_train, X_test, y_train, y_test = train_test_split(X, y, test_size=0.3, shuffle=True, random_state=69)

#%%

# Train with Linear regression
# TODO: Finish (float conversion error)
clf = LinearRegression()
clf.fit(X_train, y_train)

#%%


